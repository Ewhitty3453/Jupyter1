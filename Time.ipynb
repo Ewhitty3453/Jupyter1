{
 "cells": [
  {
   "cell_type": "code",
   "execution_count": 1,
   "id": "734fb3df",
   "metadata": {},
   "outputs": [
    {
     "name": "stdout",
     "output_type": "stream",
     "text": [
      "Seconds in an hour: 3600\n",
      "Seconds in a day: 86400\n",
      "Result of division (float): 24.0\n",
      "Result of division again (float): 24.0\n"
     ]
    }
   ],
   "source": [
    "# 3.1 Calculate seconds in an hour\n",
    "seconds_per_hour = 60 * 60\n",
    "\n",
    "# 3.3 Calculate seconds in a day using seconds_per_hour variable\n",
    "seconds_per_day = seconds_per_hour * 24\n",
    "\n",
    "# 3.5 Divide seconds_per_day by seconds_per_hour using floating-point division\n",
    "result_float_division = seconds_per_day / seconds_per_hour\n",
    "\n",
    "# 3.6 Divide seconds_per_day by seconds_per_hour again\n",
    "result_again_float_division = seconds_per_day / seconds_per_hour\n",
    "\n",
    "# Print the results\n",
    "print(\"Seconds in an hour:\", seconds_per_hour)\n",
    "print(\"Seconds in a day:\", seconds_per_day)\n",
    "print(\"Result of division (float):\", result_float_division)\n",
    "print(\"Result of division again (float):\", result_again_float_division)\n"
   ]
  },
  {
   "cell_type": "code",
   "execution_count": null,
   "id": "e11d486a",
   "metadata": {},
   "outputs": [],
   "source": []
  }
 ],
 "metadata": {
  "kernelspec": {
   "display_name": "Python 3 (ipykernel)",
   "language": "python",
   "name": "python3"
  },
  "language_info": {
   "codemirror_mode": {
    "name": "ipython",
    "version": 3
   },
   "file_extension": ".py",
   "mimetype": "text/x-python",
   "name": "python",
   "nbconvert_exporter": "python",
   "pygments_lexer": "ipython3",
   "version": "3.11.5"
  }
 },
 "nbformat": 4,
 "nbformat_minor": 5
}
